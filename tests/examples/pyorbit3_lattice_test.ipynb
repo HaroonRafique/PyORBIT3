{
 "cells": [
  {
   "cell_type": "markdown",
   "id": "3c04e170-e5b6-4b2d-8e07-7645bfeee24f",
   "metadata": {},
   "source": [
    "# Lattice test"
   ]
  },
  {
   "cell_type": "code",
   "execution_count": 1,
   "id": "95b3fb05-1a34-42e9-af0a-8e04911b1e5c",
   "metadata": {},
   "outputs": [],
   "source": [
    "from orbit.lattice import AccLattice, AccNode, AccActionsContainer"
   ]
  },
  {
   "cell_type": "code",
   "execution_count": 2,
   "id": "d913e200-c872-40bc-9989-b87bac5abbb4",
   "metadata": {},
   "outputs": [],
   "source": [
    "import sys\n",
    "import math\n",
    "import posix"
   ]
  },
  {
   "cell_type": "code",
   "execution_count": 3,
   "id": "a9e0438b-558c-4ac5-b0e6-0e0ed4de86c0",
   "metadata": {},
   "outputs": [],
   "source": [
    "def Blanks(n):\n",
    "    s = \"\"\n",
    "    for i in range(n):\n",
    "        s += \" \"\n",
    "    return s\n",
    "\n",
    "def funcEntrance(paramsDict):\n",
    "    nLevel[0] += 1\n",
    "    node = paramsDict[\"node\"]\n",
    "    if \"print\" in paramsDict and paramsDict[\"print\"] == True:\n",
    "        print(Blanks(nLevel[0]), \"ENTER level=\", nLevel[0], \" node=\", node.getName())\n",
    "        nElems[0] += 1\n",
    "\n",
    "\n",
    "def funcExit(paramsDict):\n",
    "    node = paramsDict[\"node\"]\n",
    "    if \"print\" in paramsDict and paramsDict[\"print\"] == True:\n",
    "        print(Blanks(nLevel[0]), \"EXIT  level=\", nLevel[0], \" node=\", node.getName())\n",
    "    nLevel[0] -= 1\n",
    "\n",
    "\n",
    "def funcTrack(paramsDict):\n",
    "    node = paramsDict[\"node\"]\n",
    "    if \"print\" in paramsDict and paramsDict[\"print\"] == True:\n",
    "        print(Blanks(nLevel[0]), \"BODY TRACK through node =\", node.getName(), \" level=\", nLevel[0])\n",
    "\n"
   ]
  },
  {
   "cell_type": "code",
   "execution_count": 4,
   "id": "30476edc-90c8-4e6e-9e83-33faa22a7eac",
   "metadata": {},
   "outputs": [],
   "source": [
    "nLevel = [0]\n",
    "nElems = [0]\n",
    "\n",
    "\n",
    "lattice = AccLattice(\"test_lattice\")\n",
    "\n",
    "elem1 = AccNode(\"el-1\")\n",
    "elem2 = AccNode(\"el-2\")\n",
    "elem3 = AccNode(\"el-3\")\n",
    "\n",
    "elem1.setLength(1.1)\n",
    "elem2.setLength(2.1)\n",
    "elem3.setLength(3.1)\n",
    "\n",
    "lattice.addNode(elem1)\n",
    "lattice.addNode(elem2)\n",
    "lattice.addNode(elem3)\n",
    "\n",
    "elem1_1 = AccNode(\"el-1-1\")\n",
    "elem1_1.setnParts(2)\n",
    "elem1_1_1 = AccNode(\"el-1-1-1\")\n",
    "elem1_1_2 = AccNode(\"el-1-1-2\")\n",
    "elem1_1_3 = AccNode(\"el-1-1-3\")\n",
    "elem1_1_4 = AccNode(\"el-1-1-4\")\n",
    "\n",
    "elem1.addChildNode(elem1_1, AccNode.ENTRANCE)\n",
    "elem1_1.addChildNode(elem1_1_1, AccNode.ENTRANCE)\n",
    "elem1_1.addChildNode(elem1_1_2, AccNode.BODY, 0)\n",
    "elem1_1.addChildNode(elem1_1_3, AccNode.BODY, 1)\n",
    "elem1_1.addChildNode(elem1_1_4, AccNode.EXIT)\n",
    "\n",
    "\n",
    "elem1_2 = AccNode(\"el-1-2\")\n",
    "elem2.addChildNode(elem1_2, AccNode.EXIT)\n",
    "\n",
    "acts = AccActionsContainer()\n",
    "\n",
    "\n",
    "acts.addAction(funcEntrance, AccActionsContainer.ENTRANCE)\n",
    "acts.addAction(funcTrack, AccActionsContainer.BODY)\n",
    "acts.addAction(funcExit, AccActionsContainer.EXIT)\n",
    "\n",
    "lattice.initialize()"
   ]
  },
  {
   "cell_type": "code",
   "execution_count": 5,
   "id": "b04952a8-3bef-4993-b9fa-236b09e4ea5d",
   "metadata": {},
   "outputs": [
    {
     "name": "stdout",
     "output_type": "stream",
     "text": [
      "Total length= 6.300000000000001\n"
     ]
    }
   ],
   "source": [
    "print(\"Total length=\", lattice.getLength())"
   ]
  },
  {
   "cell_type": "code",
   "execution_count": 6,
   "id": "0bdc661a-21b9-4fa3-9148-8f762b73b167",
   "metadata": {},
   "outputs": [
    {
     "name": "stdout",
     "output_type": "stream",
     "text": [
      "node= el-1  s start,stop = 0.000 1.100 \n",
      "node= el-2  s start,stop = 1.100 3.200 \n",
      "node= el-3  s start,stop = 3.200 6.300 \n"
     ]
    }
   ],
   "source": [
    "nodes = lattice.getNodes()\n",
    "for node in nodes:\n",
    "    print(\"node=\", node.getName(), \" s start,stop = %4.3f %4.3f \" % lattice.getNodePositionsDict()[node])"
   ]
  },
  {
   "cell_type": "code",
   "execution_count": 7,
   "id": "cf44b6e6-c028-47bd-9302-5d136bed0489",
   "metadata": {},
   "outputs": [],
   "source": [
    "d = {\"print\": True}"
   ]
  },
  {
   "cell_type": "code",
   "execution_count": 8,
   "id": "4b67db9a-25e6-48c2-b60f-78612dfaafac",
   "metadata": {
    "scrolled": true
   },
   "outputs": [
    {
     "name": "stdout",
     "output_type": "stream",
     "text": [
      "  ENTER level= 1  node= el-1\n",
      "   ENTER level= 2  node= el-1-1\n",
      "    ENTER level= 3  node= el-1-1-1\n",
      "    BODY TRACK through node = el-1-1-1  level= 3\n",
      "    EXIT  level= 3  node= el-1-1-1\n",
      "    ENTER level= 3  node= el-1-1-2\n",
      "    BODY TRACK through node = el-1-1-2  level= 3\n",
      "    EXIT  level= 3  node= el-1-1-2\n",
      "   BODY TRACK through node = el-1-1  level= 2\n",
      "    ENTER level= 3  node= el-1-1-3\n",
      "    BODY TRACK through node = el-1-1-3  level= 3\n",
      "    EXIT  level= 3  node= el-1-1-3\n",
      "   BODY TRACK through node = el-1-1  level= 2\n",
      "    ENTER level= 3  node= el-1-1-4\n",
      "    BODY TRACK through node = el-1-1-4  level= 3\n",
      "    EXIT  level= 3  node= el-1-1-4\n",
      "   EXIT  level= 2  node= el-1-1\n",
      "  BODY TRACK through node = el-1  level= 1\n",
      "  EXIT  level= 1  node= el-1\n",
      "  ENTER level= 1  node= el-2\n",
      "  BODY TRACK through node = el-2  level= 1\n",
      "   ENTER level= 2  node= el-1-2\n",
      "   BODY TRACK through node = el-1-2  level= 2\n",
      "   EXIT  level= 2  node= el-1-2\n",
      "  EXIT  level= 1  node= el-2\n",
      "  ENTER level= 1  node= el-3\n",
      "  BODY TRACK through node = el-3  level= 1\n",
      "  EXIT  level= 1  node= el-3\n"
     ]
    }
   ],
   "source": [
    "lattice.trackActions(acts, d)"
   ]
  },
  {
   "cell_type": "code",
   "execution_count": 9,
   "id": "bb17cdfb-caea-4e32-8308-1c801f190693",
   "metadata": {
    "scrolled": true
   },
   "outputs": [
    {
     "name": "stdout",
     "output_type": "stream",
     "text": [
      "Total number of nodes= 9\n",
      "i= 10000  time= 0.00005000 \n",
      "i= 20000  time= 0.00003150 \n",
      "i= 30000  time= 0.00002533 \n",
      "i= 40000  time= 0.00002225 \n",
      "i= 50000  time= 0.00002040 \n",
      "i= 60000  time= 0.00001917 \n",
      "i= 70000  time= 0.00001814 \n",
      "i= 80000  time= 0.00001750 \n",
      "i= 90000  time= 0.00001689 \n",
      "====STOP===\n"
     ]
    }
   ],
   "source": [
    "print(\"Total number of nodes=\", nElems[0])\n",
    "# ========Speed test==========================\n",
    "count = 1\n",
    "while count < 100000:\n",
    "    # lattice.initialize()\n",
    "    lattice.trackActions(acts)\n",
    "    if count % 10000 == 0:\n",
    "        print(\"i=\", count, \" time= %9.8f \" % (posix.times()[0] / count))\n",
    "    count += 1\n",
    "\n",
    "print(\"====STOP===\")\n",
    "\n",
    "#sys.exit(0)"
   ]
  },
  {
   "cell_type": "markdown",
   "id": "d7c3eb1f-43a0-4d30-85db-7ed2427299db",
   "metadata": {},
   "source": [
    "# bunch generator tests"
   ]
  },
  {
   "cell_type": "code",
   "execution_count": 10,
   "id": "d5d35515-a80a-42c6-a4dc-6ca187ebffc9",
   "metadata": {},
   "outputs": [],
   "source": [
    "#!/usr/bin/env python\n",
    "\n",
    "# --------------------------------------------------------\n",
    "# The script will test the gerenrators from bunch_generators\n",
    "# --------------------------------------------------------\n",
    "\n",
    "import random\n",
    "import pytest"
   ]
  },
  {
   "cell_type": "code",
   "execution_count": 11,
   "id": "44391c2b-c692-4454-b271-40fa0a5fb913",
   "metadata": {},
   "outputs": [],
   "source": [
    "random.seed(100)\n",
    "from orbit.bunch_generators import TwissContainer, TwissAnalysis\n",
    "from orbit.bunch_generators import WaterBagDist3D, GaussDist3D, KVDist3D"
   ]
  },
  {
   "cell_type": "code",
   "execution_count": 12,
   "id": "673d23f8-8bfa-4fdf-8737-cd9617ba8909",
   "metadata": {},
   "outputs": [
    {
     "name": "stdout",
     "output_type": "stream",
     "text": [
      "=================================================\n",
      "KV 3D - done!\n",
      "                  alpha       beta [m/rad]    gamma     emitt[m*rad] \n",
      "Twiss     X             1             2              1               3 \n",
      "Generated X       0.98779        1.9908        0.99243          2.9966 \n",
      "......................................................................\n",
      "Twiss     Y             2             3         1.6667               4 \n",
      "Generated Y        2.0165        3.0098         1.6833          3.9872 \n",
      "......................................................................\n",
      "Twiss     Z             3             4            2.5               5 \n",
      "Generated Z        3.0347        4.0329         2.5316          5.0201 \n",
      "=================================================\n"
     ]
    }
   ],
   "source": [
    "n = 10000\n",
    "# ---------------------------------------------\n",
    "# KV 3D\n",
    "# ---------------------------------------------\n",
    "twissX = TwissContainer(alpha=1.0, beta=2.0, emittance=3.0)\n",
    "twissY = TwissContainer(alpha=2.0, beta=3.0, emittance=4.0)\n",
    "twissZ = TwissContainer(alpha=3.0, beta=4.0, emittance=5.0)\n",
    "dist = KVDist3D(twissX, twissY, twissZ)\n",
    "twiss_analysis = TwissAnalysis(3)\n",
    "for i in range(n):\n",
    "    (x, xp, y, yp, z, zp) = dist.getCoordinates()\n",
    "    twiss_analysis.account((x, xp, y, yp, z, zp))\n",
    "\n",
    "print(\"=================================================\")\n",
    "print(\"KV 3D - done!\")\n",
    "print(\"                  alpha       beta [m/rad]    gamma     emitt[m*rad] \")\n",
    "print(\"Twiss     X  %12.5g  %12.5g   %12.5g    %12.5g \" % twissX.getAlphaBetaGammaEmitt())\n",
    "print(\"Generated X  %12.5g  %12.5g   %12.5g    %12.5g \" % twiss_analysis.getTwiss(0))\n",
    "print(\"......................................................................\")\n",
    "print(\"Twiss     Y  %12.5g  %12.5g   %12.5g    %12.5g \" % twissY.getAlphaBetaGammaEmitt())\n",
    "print(\"Generated Y  %12.5g  %12.5g   %12.5g    %12.5g \" % twiss_analysis.getTwiss(1))\n",
    "print(\"......................................................................\")\n",
    "print(\"Twiss     Z  %12.5g  %12.5g   %12.5g    %12.5g \" % twissZ.getAlphaBetaGammaEmitt())\n",
    "print(\"Generated Z  %12.5g  %12.5g   %12.5g    %12.5g \" % twiss_analysis.getTwiss(2))\n",
    "print(\"=================================================\")"
   ]
  },
  {
   "cell_type": "code",
   "execution_count": 13,
   "id": "be340d68-9105-4bd2-b786-87f533c6bf6f",
   "metadata": {},
   "outputs": [],
   "source": [
    "# pytest for KVDist3D\n",
    "get_KV3D_Twiss_X = \"%.5g %.5g %.5g %.5g\" % twiss_analysis.getTwiss(0)"
   ]
  },
  {
   "cell_type": "code",
   "execution_count": 14,
   "id": "01158f34-4a15-4183-9c44-71e5dff0ce4f",
   "metadata": {},
   "outputs": [],
   "source": [
    "def test_kv3d_twissX_generator():\n",
    "    assert get_KV3D_Twiss_X == \"0.98779 1.9908 0.99243 2.9966\""
   ]
  },
  {
   "cell_type": "code",
   "execution_count": 15,
   "id": "773c2d15-108a-471c-a351-ec7e4180b646",
   "metadata": {},
   "outputs": [],
   "source": [
    "get_KV3D_Twiss_Y = \"%.5g %.5g %.5g %.5g\" % twiss_analysis.getTwiss(1)"
   ]
  },
  {
   "cell_type": "code",
   "execution_count": 16,
   "id": "07c65552-71f5-4263-a0b6-659459691f31",
   "metadata": {},
   "outputs": [
    {
     "data": {
      "text/plain": [
       "'2.0165 3.0098 1.6833 3.9872'"
      ]
     },
     "execution_count": 16,
     "metadata": {},
     "output_type": "execute_result"
    }
   ],
   "source": [
    "get_KV3D_Twiss_Y"
   ]
  },
  {
   "cell_type": "code",
   "execution_count": 17,
   "id": "744170ec-93e3-44c7-ac69-e6d078f77ef7",
   "metadata": {},
   "outputs": [],
   "source": [
    "def test_kv3d_twissY_generator():\n",
    "    assert get_KV3D_Twiss_Y == \"2.0165 3.0098 1.6833 3.9872\""
   ]
  },
  {
   "cell_type": "code",
   "execution_count": 18,
   "id": "c1cf5796-91f6-4a6d-862a-31a605fac63e",
   "metadata": {},
   "outputs": [],
   "source": [
    "get_KV3D_Twiss_Z = \"%.5g %.5g %.5g %.5g\" % twiss_analysis.getTwiss(2)"
   ]
  },
  {
   "cell_type": "code",
   "execution_count": 19,
   "id": "9703ab9c-f5bc-4619-84a7-53ae4190bf17",
   "metadata": {},
   "outputs": [],
   "source": [
    "def test_kv3d_twissZ_generator():\n",
    "    assert get_KV3D_Twiss_Z == \"3.0347 4.0329 2.5316 5.0201\""
   ]
  },
  {
   "cell_type": "code",
   "execution_count": 20,
   "id": "b31282cb-4e84-4ccf-8dfc-ba5de082b369",
   "metadata": {},
   "outputs": [
    {
     "name": "stdout",
     "output_type": "stream",
     "text": [
      "=================================================\n",
      "Water Bag 3D - done!\n",
      "                  alpha       beta [m/rad]    gamma     emitt[m*rad] \n",
      "Twiss     X             1             2              1               3 \n",
      "Generated X       0.98348        1.9663         1.0005          2.9886 \n",
      "......................................................................\n",
      "Twiss     Y             2             3         1.6667               4 \n",
      "Generated Y         1.995        3.0085         1.6553          3.9596 \n",
      "......................................................................\n",
      "Twiss     Z             3             4            2.5               5 \n",
      "Generated Z        3.0269        4.0174         2.5295          5.0614 \n",
      "=================================================\n"
     ]
    }
   ],
   "source": [
    "# ---------------------------------------------\n",
    "# Water Bag 3D\n",
    "# ---------------------------------------------\n",
    "dist = WaterBagDist3D(twissX, twissY, twissZ)\n",
    "twiss_analysis.init()\n",
    "for i in range(n):\n",
    "    (x, xp, y, yp, z, zp) = dist.getCoordinates()\n",
    "    twiss_analysis.account((x, xp, y, yp, z, zp))\n",
    "\n",
    "print(\"=================================================\")\n",
    "print(\"Water Bag 3D - done!\")\n",
    "print(\"                  alpha       beta [m/rad]    gamma     emitt[m*rad] \")\n",
    "print(\"Twiss     X  %12.5g  %12.5g   %12.5g    %12.5g \" % twissX.getAlphaBetaGammaEmitt())\n",
    "print(\"Generated X  %12.5g  %12.5g   %12.5g    %12.5g \" % twiss_analysis.getTwiss(0))\n",
    "print(\"......................................................................\")\n",
    "print(\"Twiss     Y  %12.5g  %12.5g   %12.5g    %12.5g \" % twissY.getAlphaBetaGammaEmitt())\n",
    "print(\"Generated Y  %12.5g  %12.5g   %12.5g    %12.5g \" % twiss_analysis.getTwiss(1))\n",
    "print(\"......................................................................\")\n",
    "print(\"Twiss     Z  %12.5g  %12.5g   %12.5g    %12.5g \" % twissZ.getAlphaBetaGammaEmitt())\n",
    "print(\"Generated Z  %12.5g  %12.5g   %12.5g    %12.5g \" % twiss_analysis.getTwiss(2))\n",
    "print(\"=================================================\")"
   ]
  },
  {
   "cell_type": "code",
   "execution_count": 21,
   "id": "cd45ccf1-1c64-49a3-b23a-07bffdc24800",
   "metadata": {},
   "outputs": [],
   "source": [
    "# Pytest for Water Bag 3D\n",
    "get_WaterBag3D_Twiss_X = \"%.5g %.5g %.5g %.5g\" % twiss_analysis.getTwiss(0)"
   ]
  },
  {
   "cell_type": "code",
   "execution_count": 22,
   "id": "2a012887-aa90-44b0-8b3b-236788a6fd24",
   "metadata": {},
   "outputs": [],
   "source": [
    "def test_waterbag3d_twissX_generator():\n",
    "    assert get_WaterBag3D_Twiss_X == \"0.98348 1.9663 1.0005 2.9886\""
   ]
  },
  {
   "cell_type": "code",
   "execution_count": 23,
   "id": "c9076ee8-e616-489f-97a2-10a5e13f9e31",
   "metadata": {},
   "outputs": [],
   "source": [
    "get_WaterBag3D_Twiss_Y = \"%.5g %.5g %.5g %.5g\" % twiss_analysis.getTwiss(1)"
   ]
  },
  {
   "cell_type": "code",
   "execution_count": 24,
   "id": "2fcb63b9-9f5b-46c3-b5b2-8eb048d2ed22",
   "metadata": {},
   "outputs": [],
   "source": [
    "def test_waterbag3d_twissY_generator():\n",
    "    assert get_WaterBag3D_Twiss_Y == \"1.995 3.0085 1.6553 3.9596\""
   ]
  },
  {
   "cell_type": "code",
   "execution_count": 25,
   "id": "4165fa04-5cb5-4323-9334-8a23bb324bbc",
   "metadata": {},
   "outputs": [],
   "source": [
    "get_WaterBag3D_Twiss_Z = \"%.5g %.5g %.5g %.5g\" % twiss_analysis.getTwiss(2)"
   ]
  },
  {
   "cell_type": "code",
   "execution_count": 26,
   "id": "57a344fb-bfb1-41f3-83bc-40f14ea354b0",
   "metadata": {},
   "outputs": [],
   "source": [
    "def test_waterbag3d_twissZ_generator():\n",
    "    assert get_WaterBag3D_Twiss_Z == \"3.0269 4.0174 2.5295 5.0614\""
   ]
  },
  {
   "cell_type": "code",
   "execution_count": 27,
   "id": "f08a36ba-8eea-43f0-aa69-202b02c4aac5",
   "metadata": {},
   "outputs": [
    {
     "name": "stdout",
     "output_type": "stream",
     "text": [
      "=================================================\n",
      "Gauss 3D - done!\n",
      "                  alpha       beta [m/rad]    gamma     emitt[m*rad] \n",
      "Twiss     X             1             2              1               3 \n",
      "Generated X        1.0149        2.0058          1.012          3.0533 \n",
      "......................................................................\n",
      "Twiss     Y             2             3         1.6667               4 \n",
      "Generated Y         2.011        3.0206         1.6699          4.0153 \n",
      "......................................................................\n",
      "Twiss     Z             3             4            2.5               5 \n",
      "Generated Z        3.0053        3.9921         2.5129          5.0294 \n",
      "=================================================\n"
     ]
    }
   ],
   "source": [
    "# ---------------------------------------------\n",
    "# Gauss 3D\n",
    "# ---------------------------------------------\n",
    "dist = GaussDist3D(twissX, twissY, twissZ)\n",
    "twiss_analysis.init()\n",
    "for i in range(n):\n",
    "    (x, xp, y, yp, z, zp) = dist.getCoordinates()\n",
    "    twiss_analysis.account((x, xp, y, yp, z, zp))\n",
    "\n",
    "print(\"=================================================\")\n",
    "print(\"Gauss 3D - done!\")\n",
    "print(\"                  alpha       beta [m/rad]    gamma     emitt[m*rad] \")\n",
    "print(\"Twiss     X  %12.5g  %12.5g   %12.5g    %12.5g \" % twissX.getAlphaBetaGammaEmitt())\n",
    "print(\"Generated X  %12.5g  %12.5g   %12.5g    %12.5g \" % twiss_analysis.getTwiss(0))\n",
    "print(\"......................................................................\")\n",
    "print(\"Twiss     Y  %12.5g  %12.5g   %12.5g    %12.5g \" % twissY.getAlphaBetaGammaEmitt())\n",
    "print(\"Generated Y  %12.5g  %12.5g   %12.5g    %12.5g \" % twiss_analysis.getTwiss(1))\n",
    "print(\"......................................................................\")\n",
    "print(\"Twiss     Z  %12.5g  %12.5g   %12.5g    %12.5g \" % twissZ.getAlphaBetaGammaEmitt())\n",
    "print(\"Generated Z  %12.5g  %12.5g   %12.5g    %12.5g \" % twiss_analysis.getTwiss(2))\n",
    "print(\"=================================================\")"
   ]
  },
  {
   "cell_type": "code",
   "execution_count": 28,
   "id": "9be9cea1-7b63-4eaa-806c-e4997c163a53",
   "metadata": {},
   "outputs": [],
   "source": [
    "# pytests for GaussDist3D\n",
    "get_Gauss3D_Twiss_X = \"%.5g %.5g %.5g %.5g\" % twiss_analysis.getTwiss(0)"
   ]
  },
  {
   "cell_type": "code",
   "execution_count": 29,
   "id": "ae08b238-1500-4f0f-88aa-ee801316cdd0",
   "metadata": {},
   "outputs": [],
   "source": [
    "def test_gauss3d_twissX_generator():\n",
    "    assert get_Gauss3D_Twiss_X == \"1.0149 2.0058 1.012 3.0533\""
   ]
  },
  {
   "cell_type": "code",
   "execution_count": 30,
   "id": "739b3f90-4d98-4a84-8af5-ea0353be8f78",
   "metadata": {},
   "outputs": [],
   "source": [
    "test_gauss3d_twissX_generator()"
   ]
  },
  {
   "cell_type": "code",
   "execution_count": 31,
   "id": "3a38a9c2-cd39-4475-b32b-a1cf9c293331",
   "metadata": {},
   "outputs": [],
   "source": [
    "get_Gauss3D_Twiss_Y = \"%.5g %.5g %.5g %.5g\" % twiss_analysis.getTwiss(1)"
   ]
  },
  {
   "cell_type": "code",
   "execution_count": 32,
   "id": "e364c400-d841-46be-8e2f-f98b7efa5d92",
   "metadata": {},
   "outputs": [],
   "source": [
    "def test_gauss3d_twissY_generator():\n",
    "    assert get_Gauss3D_Twiss_Y == \"2.011 3.0206 1.6699 4.0153\""
   ]
  },
  {
   "cell_type": "code",
   "execution_count": 33,
   "id": "ab7d9854-b9bd-4936-85b5-815bc2791a0f",
   "metadata": {},
   "outputs": [],
   "source": [
    "get_Gauss3D_Twiss_Z = \"%.5g %.5g %.5g %.5g\" % twiss_analysis.getTwiss(2)"
   ]
  },
  {
   "cell_type": "code",
   "execution_count": 34,
   "id": "0583f504-6212-4cea-8bfd-f12e2d1250ac",
   "metadata": {},
   "outputs": [],
   "source": [
    "def test_gauss3d_twissZ_generator():\n",
    "    assert get_Gauss3D_Twiss_Z == \"3.0053 3.9921 2.5129 5.0294\""
   ]
  },
  {
   "cell_type": "markdown",
   "id": "4e0bb900-5e27-4736-9e32-51b5da0969a4",
   "metadata": {},
   "source": [
    "# Space Charge 2.5D test"
   ]
  },
  {
   "cell_type": "code",
   "execution_count": 35,
   "id": "7f528d97-7de8-48a6-83e1-7c816321557e",
   "metadata": {},
   "outputs": [],
   "source": [
    "# -----------------------------------------------------\n",
    "# Creates Space Charge Calculator Node\n",
    "# -----------------------------------------------------\n",
    "import math\n",
    "import random"
   ]
  },
  {
   "cell_type": "code",
   "execution_count": 36,
   "id": "74fdd75f-32c1-416b-8339-a81f5897a30f",
   "metadata": {},
   "outputs": [],
   "source": [
    "random.seed(10)"
   ]
  },
  {
   "cell_type": "code",
   "execution_count": 37,
   "id": "e0348aa8-9d45-4f91-be1b-9e9a82f47a60",
   "metadata": {},
   "outputs": [
    {
     "name": "stderr",
     "output_type": "stream",
     "text": [
      "/home/hr/Codes/pyorbit3/PyORBIT3/py/orbit/parsers/mad_parser.py:543: SyntaxWarning: invalid escape sequence '\\.'\n",
      "  str_out = re.sub(\"\\.e\", \".0e\", str_in)\n",
      "/home/hr/Codes/pyorbit3/PyORBIT3/py/orbit/parsers/mad_parser.py:545: SyntaxWarning: invalid escape sequence '\\('\n",
      "  str_out = re.sub(\"sin\\(\", \"math.sin(\", str_out)\n",
      "/home/hr/Codes/pyorbit3/PyORBIT3/py/orbit/parsers/mad_parser.py:546: SyntaxWarning: invalid escape sequence '\\('\n",
      "  str_out = re.sub(\"SIN\\(\", \"math.sin(\", str_out)\n",
      "/home/hr/Codes/pyorbit3/PyORBIT3/py/orbit/parsers/mad_parser.py:547: SyntaxWarning: invalid escape sequence '\\('\n",
      "  str_out = re.sub(\"cos\\(\", \"math.cos(\", str_out)\n",
      "/home/hr/Codes/pyorbit3/PyORBIT3/py/orbit/parsers/mad_parser.py:548: SyntaxWarning: invalid escape sequence '\\('\n",
      "  str_out = re.sub(\"COS\\(\", \"math.cos(\", str_out)\n",
      "/home/hr/Codes/pyorbit3/PyORBIT3/py/orbit/parsers/mad_parser.py:549: SyntaxWarning: invalid escape sequence '\\('\n",
      "  str_out = re.sub(\"tan\\(\", \"math.tan(\", str_out)\n",
      "/home/hr/Codes/pyorbit3/PyORBIT3/py/orbit/parsers/mad_parser.py:550: SyntaxWarning: invalid escape sequence '\\('\n",
      "  str_out = re.sub(\"TAN\\(\", \"math.tan(\", str_out)\n",
      "/home/hr/Codes/pyorbit3/PyORBIT3/py/orbit/parsers/mad_parser.py:551: SyntaxWarning: invalid escape sequence '\\('\n",
      "  str_out = re.sub(\"exp\\(\", \"math.exp(\", str_out)\n",
      "/home/hr/Codes/pyorbit3/PyORBIT3/py/orbit/parsers/mad_parser.py:552: SyntaxWarning: invalid escape sequence '\\('\n",
      "  str_out = re.sub(\"EXP\\(\", \"math.exp(\", str_out)\n",
      "/home/hr/Codes/pyorbit3/PyORBIT3/py/orbit/parsers/mad_parser.py:553: SyntaxWarning: invalid escape sequence '\\('\n",
      "  str_out = re.sub(\"log\\(\", \"math.log(\", str_out)\n",
      "/home/hr/Codes/pyorbit3/PyORBIT3/py/orbit/parsers/mad_parser.py:554: SyntaxWarning: invalid escape sequence '\\('\n",
      "  str_out = re.sub(\"LOG\\(\", \"math.log(\", str_out)\n",
      "/home/hr/Codes/pyorbit3/PyORBIT3/py/orbit/parsers/mad_parser.py:555: SyntaxWarning: invalid escape sequence '\\('\n",
      "  str_out = re.sub(\"acos\\(\", \"math.acos(\", str_out)\n",
      "/home/hr/Codes/pyorbit3/PyORBIT3/py/orbit/parsers/mad_parser.py:556: SyntaxWarning: invalid escape sequence '\\('\n",
      "  str_out = re.sub(\"ACOS\\(\", \"math.acos(\", str_out)\n",
      "/home/hr/Codes/pyorbit3/PyORBIT3/py/orbit/parsers/mad_parser.py:557: SyntaxWarning: invalid escape sequence '\\('\n",
      "  str_out = re.sub(\"asin\\(\", \"math.asin(\", str_out)\n",
      "/home/hr/Codes/pyorbit3/PyORBIT3/py/orbit/parsers/mad_parser.py:558: SyntaxWarning: invalid escape sequence '\\('\n",
      "  str_out = re.sub(\"ASIN\\(\", \"math.asin(\", str_out)\n",
      "/home/hr/Codes/pyorbit3/PyORBIT3/py/orbit/parsers/mad_parser.py:559: SyntaxWarning: invalid escape sequence '\\('\n",
      "  str_out = re.sub(\"atan\\(\", \"math.atan(\", str_out)\n",
      "/home/hr/Codes/pyorbit3/PyORBIT3/py/orbit/parsers/mad_parser.py:560: SyntaxWarning: invalid escape sequence '\\('\n",
      "  str_out = re.sub(\"ATAN\\(\", \"math.atan(\", str_out)\n",
      "/home/hr/Codes/pyorbit3/PyORBIT3/py/orbit/parsers/mad_parser.py:561: SyntaxWarning: invalid escape sequence '\\('\n",
      "  str_out = re.sub(\"sqrt\\(\", \"math.sqrt(\", str_out)\n",
      "/home/hr/Codes/pyorbit3/PyORBIT3/py/orbit/parsers/mad_parser.py:562: SyntaxWarning: invalid escape sequence '\\('\n",
      "  str_out = re.sub(\"SQRT\\(\", \"math.sqrt(\", str_out)\n",
      "/home/hr/Codes/pyorbit3/PyORBIT3/py/orbit/parsers/madx_parser.py:277: SyntaxWarning: invalid escape sequence '\\.'\n",
      "  str_out = re.sub(\"\\.e\", \".0e\", str_in)\n",
      "/home/hr/Codes/pyorbit3/PyORBIT3/py/orbit/parsers/madx_parser.py:279: SyntaxWarning: invalid escape sequence '\\('\n",
      "  str_out = re.sub(\"sin\\(\", \"math.sin(\", str_out)\n",
      "/home/hr/Codes/pyorbit3/PyORBIT3/py/orbit/parsers/madx_parser.py:280: SyntaxWarning: invalid escape sequence '\\('\n",
      "  str_out = re.sub(\"cos\\(\", \"math.cos(\", str_out)\n",
      "/home/hr/Codes/pyorbit3/PyORBIT3/py/orbit/parsers/madx_parser.py:281: SyntaxWarning: invalid escape sequence '\\('\n",
      "  str_out = re.sub(\"tan\\(\", \"math.tan(\", str_out)\n",
      "/home/hr/Codes/pyorbit3/PyORBIT3/py/orbit/parsers/madx_parser.py:282: SyntaxWarning: invalid escape sequence '\\('\n",
      "  str_out = re.sub(\"exp\\(\", \"math.exp(\", str_out)\n",
      "/home/hr/Codes/pyorbit3/PyORBIT3/py/orbit/parsers/madx_parser.py:283: SyntaxWarning: invalid escape sequence '\\('\n",
      "  str_out = re.sub(\"log\\(\", \"math.log(\", str_out)\n",
      "/home/hr/Codes/pyorbit3/PyORBIT3/py/orbit/parsers/madx_parser.py:284: SyntaxWarning: invalid escape sequence '\\('\n",
      "  str_out = re.sub(\"acos\\(\", \"math.acos(\", str_out)\n",
      "/home/hr/Codes/pyorbit3/PyORBIT3/py/orbit/parsers/madx_parser.py:285: SyntaxWarning: invalid escape sequence '\\('\n",
      "  str_out = re.sub(\"asin\\(\", \"math.asin(\", str_out)\n",
      "/home/hr/Codes/pyorbit3/PyORBIT3/py/orbit/parsers/madx_parser.py:286: SyntaxWarning: invalid escape sequence '\\('\n",
      "  str_out = re.sub(\"atan\\(\", \"math.atan(\", str_out)\n",
      "/home/hr/Codes/pyorbit3/PyORBIT3/py/orbit/parsers/madx_parser.py:287: SyntaxWarning: invalid escape sequence '\\('\n",
      "  str_out = re.sub(\"sqrt\\(\", \"math.sqrt(\", str_out)\n",
      "/home/hr/Codes/pyorbit3/PyORBIT3/py/orbit/parsers/sad_parser.py:408: SyntaxWarning: invalid escape sequence '\\.'\n",
      "  str_out = re.sub(\"\\.e\", \".0e\", str_in)\n",
      "/home/hr/Codes/pyorbit3/PyORBIT3/py/orbit/parsers/sad_parser.py:411: SyntaxWarning: invalid escape sequence '\\('\n",
      "  str_out = re.sub(\"sin\\(\", \"math.sin(\", str_out)\n",
      "/home/hr/Codes/pyorbit3/PyORBIT3/py/orbit/parsers/sad_parser.py:412: SyntaxWarning: invalid escape sequence '\\('\n",
      "  str_out = re.sub(\"SIN\\(\", \"math.sin(\", str_out)\n",
      "/home/hr/Codes/pyorbit3/PyORBIT3/py/orbit/parsers/sad_parser.py:413: SyntaxWarning: invalid escape sequence '\\('\n",
      "  str_out = re.sub(\"cos\\(\", \"math.cos(\", str_out)\n",
      "/home/hr/Codes/pyorbit3/PyORBIT3/py/orbit/parsers/sad_parser.py:414: SyntaxWarning: invalid escape sequence '\\('\n",
      "  str_out = re.sub(\"COS\\(\", \"math.cos(\", str_out)\n",
      "/home/hr/Codes/pyorbit3/PyORBIT3/py/orbit/parsers/sad_parser.py:415: SyntaxWarning: invalid escape sequence '\\('\n",
      "  str_out = re.sub(\"tan\\(\", \"math.tan(\", str_out)\n",
      "/home/hr/Codes/pyorbit3/PyORBIT3/py/orbit/parsers/sad_parser.py:416: SyntaxWarning: invalid escape sequence '\\('\n",
      "  str_out = re.sub(\"TAN\\(\", \"math.tan(\", str_out)\n",
      "/home/hr/Codes/pyorbit3/PyORBIT3/py/orbit/parsers/sad_parser.py:417: SyntaxWarning: invalid escape sequence '\\('\n",
      "  str_out = re.sub(\"exp\\(\", \"math.exp(\", str_out)\n",
      "/home/hr/Codes/pyorbit3/PyORBIT3/py/orbit/parsers/sad_parser.py:418: SyntaxWarning: invalid escape sequence '\\('\n",
      "  str_out = re.sub(\"EXP\\(\", \"math.exp(\", str_out)\n",
      "/home/hr/Codes/pyorbit3/PyORBIT3/py/orbit/parsers/sad_parser.py:419: SyntaxWarning: invalid escape sequence '\\('\n",
      "  str_out = re.sub(\"log\\(\", \"math.log(\", str_out)\n",
      "/home/hr/Codes/pyorbit3/PyORBIT3/py/orbit/parsers/sad_parser.py:420: SyntaxWarning: invalid escape sequence '\\('\n",
      "  str_out = re.sub(\"LOG\\(\", \"math.log(\", str_out)\n",
      "/home/hr/Codes/pyorbit3/PyORBIT3/py/orbit/parsers/sad_parser.py:421: SyntaxWarning: invalid escape sequence '\\('\n",
      "  str_out = re.sub(\"acos\\(\", \"math.acos(\", str_out)\n",
      "/home/hr/Codes/pyorbit3/PyORBIT3/py/orbit/parsers/sad_parser.py:422: SyntaxWarning: invalid escape sequence '\\('\n",
      "  str_out = re.sub(\"ACOS\\(\", \"math.acos(\", str_out)\n",
      "/home/hr/Codes/pyorbit3/PyORBIT3/py/orbit/parsers/sad_parser.py:423: SyntaxWarning: invalid escape sequence '\\('\n",
      "  str_out = re.sub(\"asin\\(\", \"math.asin(\", str_out)\n",
      "/home/hr/Codes/pyorbit3/PyORBIT3/py/orbit/parsers/sad_parser.py:424: SyntaxWarning: invalid escape sequence '\\('\n",
      "  str_out = re.sub(\"ASIN\\(\", \"math.asin(\", str_out)\n",
      "/home/hr/Codes/pyorbit3/PyORBIT3/py/orbit/parsers/sad_parser.py:425: SyntaxWarning: invalid escape sequence '\\('\n",
      "  str_out = re.sub(\"atan\\(\", \"math.atan(\", str_out)\n",
      "/home/hr/Codes/pyorbit3/PyORBIT3/py/orbit/parsers/sad_parser.py:426: SyntaxWarning: invalid escape sequence '\\('\n",
      "  str_out = re.sub(\"ATAN\\(\", \"math.atan(\", str_out)\n",
      "/home/hr/Codes/pyorbit3/PyORBIT3/py/orbit/parsers/sad_parser.py:427: SyntaxWarning: invalid escape sequence '\\('\n",
      "  str_out = re.sub(\"sqrt\\(\", \"math.sqrt(\", str_out)\n",
      "/home/hr/Codes/pyorbit3/PyORBIT3/py/orbit/parsers/sad_parser.py:428: SyntaxWarning: invalid escape sequence '\\('\n",
      "  str_out = re.sub(\"SQRT\\(\", \"math.sqrt(\", str_out)\n"
     ]
    }
   ],
   "source": [
    "from orbit.teapot import teapot\n",
    "from orbit.space_charge.sc2p5d import scLatticeModifications\n",
    "from orbit.core.bunch import Bunch\n",
    "from orbit.core.spacecharge import SpaceChargeCalc2p5D, Boundary2D"
   ]
  },
  {
   "cell_type": "code",
   "execution_count": 38,
   "id": "60f21bc8-538e-48cb-8e46-ff828315f84f",
   "metadata": {},
   "outputs": [
    {
     "name": "stdout",
     "output_type": "stream",
     "text": [
      "Start.\n"
     ]
    }
   ],
   "source": [
    "print(\"Start.\")\n",
    "\n",
    "# make a bunch\n",
    "b = Bunch()\n",
    "bunch_radius = 0.005\n",
    "bunch_length = 500e-9 * 3e8 * 0.87502565\n",
    "nParts = 100000\n",
    "\n",
    "# Use random radius\n",
    "for ip in range(nParts):\n",
    "    r = bunch_radius * math.sqrt(random.random())\n",
    "    phi = 2 * math.pi * random.random()\n",
    "    x = r * math.sin(phi)\n",
    "    y = r * math.cos(phi)\n",
    "    z = bunch_length * 0.5 * (1.0 - 2 * random.random())\n",
    "    b.addParticle(x, 0.0, y, 0.0, z, 0.0)\n",
    "\n",
    "# set bunch parameters\n",
    "macroSize = 1.56e13\n",
    "energy = 0.08\n",
    "nParticlesGlobal = b.getSizeGlobal()\n",
    "b.macroSize(macroSize / nParticlesGlobal)\n",
    "syncPart = b.getSyncParticle()\n",
    "syncPart.kinEnergy(energy)\n",
    "\n",
    "# make a Teapot lattice\n",
    "elem1 = teapot.DriftTEAPOT(\"drift1\")\n",
    "elem2 = teapot.QuadTEAPOT(\"quad1\")\n",
    "elem3 = teapot.QuadTEAPOT(\"quad2\")\n",
    "\n",
    "teapot_lattice = teapot.TEAPOT_Lattice(\"teapot_lattice\")\n",
    "teapot_lattice.addNode(elem1)\n",
    "# teapot_lattice.addNode(elem2)\n",
    "# teapot_lattice.addNode(elem3)\n",
    "\n",
    "# set node prameters\n",
    "elem1.setLength(0.2)\n",
    "elem1.setnParts(2)\n",
    "elem2.setLength(1.0)\n",
    "elem2.setnParts(5)\n",
    "elem2.addParam(\"kq\", -0.7)\n",
    "elem3.setLength(2.0)\n",
    "elem3.setnParts(5)\n",
    "elem3.addParam(\"kq\", +0.7)\n",
    "\n",
    "teapot_lattice.initialize()"
   ]
  },
  {
   "cell_type": "code",
   "execution_count": 39,
   "id": "eeabd08e-3be1-4779-91d0-9506a7b17882",
   "metadata": {},
   "outputs": [],
   "source": [
    "# make 2.5D space charge calculator\n",
    "sizeX = 64\n",
    "sizeY = 64\n",
    "sizeZ = 20\n",
    "calc2p5d = SpaceChargeCalc2p5D(sizeX, sizeY, sizeZ)\n",
    "\n",
    "# set boundary\n",
    "nBoundaryPoints = 100\n",
    "N_FreeSpaceModes = 20\n",
    "R_Boundary = 0.008\n",
    "boundary = Boundary2D(nBoundaryPoints, N_FreeSpaceModes)\n",
    "\n",
    "for i in range(nBoundaryPoints):\n",
    "    x = R_Boundary * math.cos((2.0 * math.pi / (nBoundaryPoints - 1)) * i)\n",
    "    y = R_Boundary * math.sin((2.0 * math.pi / (nBoundaryPoints - 1)) * i)\n",
    "    boundary.setBoundaryPoint(i, x, y)\n",
    "boundary.initialize()"
   ]
  },
  {
   "cell_type": "code",
   "execution_count": 40,
   "id": "846e6015-16d9-4e11-82cb-5246094881c2",
   "metadata": {},
   "outputs": [],
   "source": [
    "# -------------------------------------------------------------------------\n",
    "\"\"\"\n",
    "For the Boundary2D class it is possible to have the predefined shapes\n",
    "Circle - the last parameter will be the diameter of the circle\n",
    "Ellipse - there will be two parameters at the end - 2*a and 2*b where a,b are semi-axises\n",
    "Rectangle - there will be two parameters at the end - horizontal and vertical sizes\n",
    "\"\"\"\n",
    "# -------------------------------------------------------------------------\n",
    "# boundary = Boundary2D(nBoundaryPoints,N_FreeSpaceModes,\"Circle\",2*R_Boundary)\n",
    "\n",
    "sc_path_length_min = 0.05\n",
    "\n",
    "scNode_arr = scLatticeModifications.setSC2p5DAccNodes(teapot_lattice, sc_path_length_min, calc2p5d)\n",
    "# scNode_arr = scLatticeModifications.setSC2p5DAccNodes(teapot_lattice, sc_path_length_min, calc2p5d, boundary)\n",
    "\n",
    "# track lattice\n",
    "# teapot_lattice.trackBunch(b)\n",
    "slice_length = 0.1\n",
    "calc2p5d.trackBunch(b, slice_length)"
   ]
  },
  {
   "cell_type": "code",
   "execution_count": 41,
   "id": "2fae1d2b-3164-4647-97a9-29f85a03f836",
   "metadata": {},
   "outputs": [],
   "source": [
    "# -------------------------------------\n",
    "# momentum change\n",
    "# coeff is: 2*r0*L*lambda/e*(gamma^3*beta^2)\n",
    "# r/a^2 and grad/macrosize\n",
    "# -------------------------------------\n",
    "xyp_coeff = 2 * b.classicalRadius() * b.charge() ** 2 * 0.1 / (b.getSyncParticle().gamma() ** 3 * b.getSyncParticle().beta() ** 2)\n",
    "output_string = \" \"\n",
    "for ip in range(10):\n",
    "    x = b.x(ip)\n",
    "    y = b.y(ip)\n",
    "    r = math.sqrt(x * x + y * y)\n",
    "    theta = math.atan2(y, x)\n",
    "    xp = b.xp(ip)\n",
    "    yp = b.yp(ip)\n",
    "    xp_calc = math.cos(theta) * r * xyp_coeff * macroSize / (bunch_length * bunch_radius**2)\n",
    "    yp_calc = math.sin(theta) * r * xyp_coeff * macroSize / (bunch_length * bunch_radius**2)\n",
    "    xp_error = (xp - xp_calc) * 100 / xp_calc\n",
    "    yp_error = (yp - yp_calc) * 100 / yp_calc\n",
    "    # \tprint(\"debug xyp_coeff=\",xyp_coeff)\n",
    "    # \tprint(\"r=%10.5g\"%r, \"x=%10.5g\"%x, \"y=%10.5g\"%y, \"xp = %10.5g \"%xp,\" xp_theory = %10.5g \"%xp_calc,\" xp_error = %10.5g \"%xp_error,\"%\")\n",
    "    # \tprint(\"r=%10.5g\"%r, \"x=%10.5g\"%x, \"y=%10.5g\"%y, \"yp = %10.5g \"%yp,\" yp_theory = %10.5g \"%yp_calc,\" xp_error = %10.5g \"%yp_error,\"%\")\n",
    "\n",
    "    xyp_coeff_str = \"{:.12g}\".format(xyp_coeff)\n",
    "    r_str = \"{:.5g}\".format(r)\n",
    "    x_str = \"{:.5g}\".format(x)\n",
    "    y_str = \"{:.5g}\".format(y)\n",
    "    xp_str = \"{:.5g}\".format(xp)\n",
    "    xp_calc_str = \"{:.5g}\".format(xp_calc)\n",
    "    xp_error_str = \"{:.5g}\".format(xp_error)\n",
    "    yp_str = \"{:.5g}\".format(yp)\n",
    "    yp_calc_str = \"{:.5g}\".format(yp_calc)\n",
    "    yp_error_str = \"{:.5g}\".format(yp_error)\n",
    "\n",
    "    output_string += (\n",
    "        \"debug xyp_coeff= \" + xyp_coeff_str + \"\\n\"\n",
    "        \"r=\"\n",
    "        + r_str\n",
    "        + \" x=\"\n",
    "        + x_str\n",
    "        + \" y=\"\n",
    "        + y_str\n",
    "        + \" xp=\"\n",
    "        + xp_str\n",
    "        + \" xp_theory=\"\n",
    "        + xp_calc_str\n",
    "        + \" xp_error=\"\n",
    "        + xp_error_str\n",
    "        + \"%\\n\"\n",
    "        + \"r=\"\n",
    "        + r_str\n",
    "        + \" x=\"\n",
    "        + x_str\n",
    "        + \" y=\"\n",
    "        + y_str\n",
    "        + \" yp=\"\n",
    "        + yp_str\n",
    "        + \" yp_theory=\"\n",
    "        + yp_calc_str\n",
    "        + \" xp_error=\"\n",
    "        + yp_error_str\n",
    "        + \"%\\n\"\n",
    "    )\n",
    "    "
   ]
  },
  {
   "cell_type": "code",
   "execution_count": 42,
   "id": "a5ba3d1d-6ca5-4a72-819d-2b5de31c92e5",
   "metadata": {},
   "outputs": [
    {
     "name": "stdout",
     "output_type": "stream",
     "text": [
      " debug xyp_coeff= 1.59072750489e-18\n",
      "r=0.0037796 x=0.0016331 y=-0.0034085 xp=1.2422e-05 xp_theory=1.235e-05 xp_error=0.57668%\n",
      "r=0.0037796 x=0.0016331 y=-0.0034085 yp=-2.6098e-05 yp_theory=-2.5777e-05 xp_error=1.2461%\n",
      "debug xyp_coeff= 1.59072750489e-18\n",
      "r=0.0022699 x=-0.0020926 y=0.00087946 xp=-1.5318e-05 xp_theory=-1.5825e-05 xp_error=-3.2089%\n",
      "r=0.0022699 x=-0.0020926 y=0.00087946 yp=6.2988e-06 yp_theory=6.651e-06 xp_error=-5.2956%\n",
      "debug xyp_coeff= 1.59072750489e-18\n",
      "r=0.0040419 x=0.0034158 y=0.0021608 xp=2.6262e-05 xp_theory=2.5832e-05 xp_error=1.6651%\n",
      "r=0.0040419 x=0.0034158 y=0.0021608 yp=1.6457e-05 yp_theory=1.6341e-05 xp_error=0.71075%\n",
      "debug xyp_coeff= 1.59072750489e-18\n",
      "r=0.0028626 x=0.0028626 y=5.9773e-08 xp=2.1662e-05 xp_theory=2.1648e-05 xp_error=0.064156%\n",
      "r=0.0028626 x=0.0028626 y=5.9773e-08 yp=-7.144e-07 yp_theory=4.5204e-10 xp_error=-1.5814e+05%\n",
      "debug xyp_coeff= 1.59072750489e-18\n",
      "r=0.0049914 x=0.0013792 y=0.0047971 xp=9.5657e-06 xp_theory=1.043e-05 xp_error=-8.2886%\n",
      "r=0.0049914 x=0.0013792 y=0.0047971 yp=3.3172e-05 yp_theory=3.6278e-05 xp_error=-8.5623%\n",
      "debug xyp_coeff= 1.59072750489e-18\n",
      "r=0.0038833 x=0.0026296 y=-0.0028575 xp=1.9649e-05 xp_theory=1.9886e-05 xp_error=-1.1953%\n",
      "r=0.0038833 x=0.0026296 y=-0.0028575 yp=-2.1742e-05 yp_theory=-2.161e-05 xp_error=0.6124%\n",
      "debug xyp_coeff= 1.59072750489e-18\n",
      "r=0.0041078 x=0.0011006 y=-0.0039576 xp=8.0136e-06 xp_theory=8.3232e-06 xp_error=-3.7193%\n",
      "r=0.0041078 x=0.0011006 y=-0.0039576 yp=-2.942e-05 yp_theory=-2.993e-05 xp_error=-1.7028%\n",
      "debug xyp_coeff= 1.59072750489e-18\n",
      "r=0.0040677 x=0.0030168 y=0.0027286 xp=2.1882e-05 xp_theory=2.2815e-05 xp_error=-4.0866%\n",
      "r=0.0040677 x=0.0030168 y=0.0027286 yp=2.0659e-05 yp_theory=2.0635e-05 xp_error=0.1156%\n",
      "debug xyp_coeff= 1.59072750489e-18\n",
      "r=0.0049558 x=-0.00094734 y=0.0048645 xp=-6.197e-06 xp_theory=-7.1643e-06 xp_error=-13.502%\n",
      "r=0.0049558 x=-0.00094734 y=0.0048645 yp=3.451e-05 yp_theory=3.6788e-05 xp_error=-6.1921%\n",
      "debug xyp_coeff= 1.59072750489e-18\n",
      "r=0.0010519 x=2.6799e-05 y=0.0010516 xp=1.1332e-07 xp_theory=2.0267e-07 xp_error=-44.086%\n",
      "r=0.0010519 x=2.6799e-05 y=0.0010516 yp=7.5121e-06 yp_theory=7.9525e-06 xp_error=-5.5382%\n",
      "\n"
     ]
    }
   ],
   "source": [
    "print(output_string)"
   ]
  },
  {
   "cell_type": "code",
   "execution_count": 43,
   "id": "c1f19ea9-ab54-439b-91ac-0b01a4eae08c",
   "metadata": {},
   "outputs": [
    {
     "name": "stdout",
     "output_type": "stream",
     "text": [
      "Finish.\n"
     ]
    }
   ],
   "source": [
    "print(\"Finish.\")"
   ]
  },
  {
   "cell_type": "code",
   "execution_count": 44,
   "id": "e1506162-8558-40d0-aa3c-af1e06ce9906",
   "metadata": {},
   "outputs": [],
   "source": [
    "def test_output():\n",
    "    expected_output = \"\"\" debug xyp_coeff= 1.59072750489e-18\n",
    "r=0.0037796 x=0.0016331 y=-0.0034085 xp=1.2422e-05 xp_theory=1.235e-05 xp_error=0.57668%\n",
    "r=0.0037796 x=0.0016331 y=-0.0034085 yp=-2.6098e-05 yp_theory=-2.5777e-05 xp_error=1.2461%\n",
    "debug xyp_coeff= 1.59072750489e-18\n",
    "r=0.0022699 x=-0.0020926 y=0.00087946 xp=-1.5318e-05 xp_theory=-1.5825e-05 xp_error=-3.2089%\n",
    "r=0.0022699 x=-0.0020926 y=0.00087946 yp=6.2988e-06 yp_theory=6.651e-06 xp_error=-5.2956%\n",
    "debug xyp_coeff= 1.59072750489e-18\n",
    "r=0.0040419 x=0.0034158 y=0.0021608 xp=2.6262e-05 xp_theory=2.5832e-05 xp_error=1.6651%\n",
    "r=0.0040419 x=0.0034158 y=0.0021608 yp=1.6457e-05 yp_theory=1.6341e-05 xp_error=0.71075%\n",
    "debug xyp_coeff= 1.59072750489e-18\n",
    "r=0.0028626 x=0.0028626 y=5.9773e-08 xp=2.1662e-05 xp_theory=2.1648e-05 xp_error=0.064156%\n",
    "r=0.0028626 x=0.0028626 y=5.9773e-08 yp=-7.144e-07 yp_theory=4.5204e-10 xp_error=-1.5814e+05%\n",
    "debug xyp_coeff= 1.59072750489e-18\n",
    "r=0.0049914 x=0.0013792 y=0.0047971 xp=9.5657e-06 xp_theory=1.043e-05 xp_error=-8.2886%\n",
    "r=0.0049914 x=0.0013792 y=0.0047971 yp=3.3172e-05 yp_theory=3.6278e-05 xp_error=-8.5623%\n",
    "debug xyp_coeff= 1.59072750489e-18\n",
    "r=0.0038833 x=0.0026296 y=-0.0028575 xp=1.9649e-05 xp_theory=1.9886e-05 xp_error=-1.1953%\n",
    "r=0.0038833 x=0.0026296 y=-0.0028575 yp=-2.1742e-05 yp_theory=-2.161e-05 xp_error=0.6124%\n",
    "debug xyp_coeff= 1.59072750489e-18\n",
    "r=0.0041078 x=0.0011006 y=-0.0039576 xp=8.0136e-06 xp_theory=8.3232e-06 xp_error=-3.7193%\n",
    "r=0.0041078 x=0.0011006 y=-0.0039576 yp=-2.942e-05 yp_theory=-2.993e-05 xp_error=-1.7028%\n",
    "debug xyp_coeff= 1.59072750489e-18\n",
    "r=0.0040677 x=0.0030168 y=0.0027286 xp=2.1882e-05 xp_theory=2.2815e-05 xp_error=-4.0866%\n",
    "r=0.0040677 x=0.0030168 y=0.0027286 yp=2.0659e-05 yp_theory=2.0635e-05 xp_error=0.1156%\n",
    "debug xyp_coeff= 1.59072750489e-18\n",
    "r=0.0049558 x=-0.00094734 y=0.0048645 xp=-6.197e-06 xp_theory=-7.1643e-06 xp_error=-13.502%\n",
    "r=0.0049558 x=-0.00094734 y=0.0048645 yp=3.451e-05 yp_theory=3.6788e-05 xp_error=-6.1921%\n",
    "debug xyp_coeff= 1.59072750489e-18\n",
    "r=0.0010519 x=2.6799e-05 y=0.0010516 xp=1.1332e-07 xp_theory=2.0267e-07 xp_error=-44.086%\n",
    "r=0.0010519 x=2.6799e-05 y=0.0010516 yp=7.5121e-06 yp_theory=7.9525e-06 xp_error=-5.5382%\\n\"\"\"\n",
    "    assert output_string == expected_output"
   ]
  },
  {
   "cell_type": "code",
   "execution_count": 45,
   "id": "6ba07bbe-ebfd-4e53-a8a1-c87ed7795497",
   "metadata": {},
   "outputs": [],
   "source": [
    "test_output()"
   ]
  },
  {
   "cell_type": "markdown",
   "id": "9538a4c6-bcc4-46c8-8e8e-3afd48732378",
   "metadata": {},
   "source": [
    "# Injection Test"
   ]
  },
  {
   "cell_type": "code",
   "execution_count": 46,
   "id": "09e9e2eb-4840-41d8-8905-60bcbfd74d08",
   "metadata": {},
   "outputs": [],
   "source": [
    "##############################################################\n",
    "# This script reads the input MAD file with lattice information,\n",
    "# creates the TEAPOT lattice, and modifies this lattice by inserting\n",
    "# injection nodes\n",
    "##############################################################\n",
    "\n",
    "import pytest\n",
    "import os\n",
    "import random"
   ]
  },
  {
   "cell_type": "code",
   "execution_count": 47,
   "id": "b5668c70-f6de-4006-bb9b-9e127078e4cb",
   "metadata": {},
   "outputs": [],
   "source": [
    "from orbit.teapot import teapot\n",
    "from orbit.core.bunch import Bunch\n",
    "from orbit.utils.orbit_mpi_utils import bunch_pyorbit_to_orbit\n",
    "from orbit.injection import TeapotInjectionNode\n",
    "from orbit.injection import addTeapotInjectionNode\n",
    "from orbit.injection import JohoTransverse, UniformLongDist"
   ]
  },
  {
   "cell_type": "code",
   "execution_count": 48,
   "id": "f79e6179-0dc9-4f11-9840-863f243b7b8a",
   "metadata": {},
   "outputs": [],
   "source": [
    "def read_values_from_file(file_path):\n",
    "    values = []\n",
    "\n",
    "    with open(file_path) as f:\n",
    "        for line in f:\n",
    "            line = line.strip()\n",
    "            if line:\n",
    "                values.extend(map(float, line.split()))\n",
    "\n",
    "    return values"
   ]
  },
  {
   "cell_type": "code",
   "execution_count": 49,
   "id": "38874f0e-c336-4701-885b-deeea04e238e",
   "metadata": {},
   "outputs": [
    {
     "name": "stdout",
     "output_type": "stream",
     "text": [
      "Start.\n"
     ]
    }
   ],
   "source": [
    "random.seed(100)\n",
    "script_dir = os.getcwd()\n",
    "\n",
    "print(\"Start.\")"
   ]
  },
  {
   "cell_type": "code",
   "execution_count": 50,
   "id": "8af78af6-7d62-4ade-a188-f392d4115ee8",
   "metadata": {},
   "outputs": [
    {
     "name": "stdout",
     "output_type": "stream",
     "text": [
      "Read MAD.\n"
     ]
    }
   ],
   "source": [
    "teapot_latt = teapot.TEAPOT_Lattice()\n",
    "print(\"Read MAD.\")"
   ]
  },
  {
   "cell_type": "code",
   "execution_count": 51,
   "id": "844eec56-9794-48b2-a85a-fe39d0370965",
   "metadata": {},
   "outputs": [
    {
     "name": "stdout",
     "output_type": "stream",
     "text": [
      "Lattice= RING  length [m] = 248.0000000000001  nodes= 405\n"
     ]
    }
   ],
   "source": [
    "teapot_latt.readMAD(os.path.join(script_dir, \"Apertures/MAD_Lattice/LATTICE\"), \"RING\")\n",
    "print(\"Lattice=\", teapot_latt.getName(), \" length [m] =\", teapot_latt.getLength(), \" nodes=\", len(teapot_latt.getNodes()))"
   ]
  },
  {
   "cell_type": "code",
   "execution_count": 52,
   "id": "8a9500b0-66bd-4309-922e-2c158ebaae29",
   "metadata": {},
   "outputs": [],
   "source": [
    "# ====Injection aperature============\n",
    "xmin = -0.050\n",
    "xmax = 0.050\n",
    "ymin = -0.050\n",
    "ymax = 0.050\n",
    "\n",
    "injectparams = (xmin, xmax, ymin, ymax)\n",
    "\n",
    "# =====set up bunch stuff============\n",
    "b = Bunch()\n",
    "\n",
    "b.mass(0.93827231)\n",
    "b.macroSize(1.0e1)\n",
    "energy = 1.0  # Gev\n",
    "b.getSyncParticle().kinEnergy(energy)\n",
    "\n",
    "paramsDict = {}\n",
    "lostbunch = Bunch()\n",
    "paramsDict[\"lostbunch\"] = lostbunch\n",
    "paramsDict[\"bunch\"] = b\n",
    "lostbunch.addPartAttr(\"LostParticleAttributes\")\n",
    "\n",
    "# ------------------------------\n",
    "# Initial Distribution Functions\n",
    "# ------------------------------\n",
    "sp = b.getSyncParticle()\n",
    "\n",
    "order = 3.0\n",
    "alphax = 0.063\n",
    "betax = 10.209\n",
    "alphay = 0.063\n",
    "betay = 10.776\n",
    "emitlim = 0.00152 * 2 * (order + 1) * 1e-6\n",
    "xcenterpos = 0.0468\n",
    "xcentermom = 0.001\n",
    "ycenterpos = 0.0492\n",
    "ycentermom = -0.00006\n",
    "tailfrac = 0.1  # 10% in tails\n",
    "tailfac = 1.5  # tail emittance is 50% greater than core\n",
    "zlim = 120.0 * 248.0 / 360.0\n",
    "zmin = -zlim\n",
    "zmax = zlim\n",
    "deltaEfrac = 0.001 / 2.0\n",
    "eoffset = 0.1\n",
    "sp = b.getSyncParticle()\n",
    "\n",
    "xFunc = JohoTransverse(order, alphax, betax, emitlim, xcenterpos, xcentermom, tailfrac, tailfac)\n",
    "yFunc = JohoTransverse(order, alphay, betay, emitlim, ycenterpos, ycentermom, tailfrac, tailfac)\n",
    "lFunc = UniformLongDist(zmin, zmax, sp, eoffset, deltaEfrac)\n",
    "\n",
    "nparts = 10000.0\n",
    "\n",
    "injectnode = TeapotInjectionNode(nparts, b, lostbunch, injectparams, xFunc, yFunc, lFunc)\n",
    "\n",
    "addTeapotInjectionNode(teapot_latt, 0.0, injectnode)"
   ]
  },
  {
   "cell_type": "code",
   "execution_count": 53,
   "id": "2d5e7caa-f0dd-4af4-a4a1-4c464825a218",
   "metadata": {},
   "outputs": [
    {
     "name": "stdout",
     "output_type": "stream",
     "text": [
      "===========Lattice modified =======================================\n",
      "New Lattice= RING  length [m] = 248.0000000000001  nodes= 406\n"
     ]
    }
   ],
   "source": [
    "print(\"===========Lattice modified =======================================\")\n",
    "print(\"New Lattice=\", teapot_latt.getName(), \" length [m] =\", teapot_latt.getLength(), \" nodes=\", len(teapot_latt.getNodes()))"
   ]
  },
  {
   "cell_type": "code",
   "execution_count": 54,
   "id": "503dd057-b0a1-4a57-9fb4-23153bc8a917",
   "metadata": {},
   "outputs": [
    {
     "name": "stdout",
     "output_type": "stream",
     "text": [
      "Stop.\n"
     ]
    }
   ],
   "source": [
    "injectnode.track(paramsDict)\n",
    "\n",
    "# dump ORBIT_MPI bunch to compare results\n",
    "bunch_pyorbit_to_orbit(teapot_latt.getLength(), b, \"mainbunch.dat\")\n",
    "bunch_pyorbit_to_orbit(teapot_latt.getLength(), lostbunch, \"lostbunch.dat\")\n",
    "print(\"Stop.\")"
   ]
  },
  {
   "cell_type": "code",
   "execution_count": 55,
   "id": "e8f1052c-dd7f-4ef6-bdf7-ab54ff83a028",
   "metadata": {},
   "outputs": [],
   "source": [
    "mainbunch = read_values_from_file(\"mainbunch.dat\")"
   ]
  },
  {
   "cell_type": "code",
   "execution_count": 56,
   "id": "b04295b5-0887-4509-822c-f5f416cd464b",
   "metadata": {},
   "outputs": [],
   "source": [
    "def test_injection_main_bunch():\n",
    "    expected_mainbunch = os.path.join(script_dir, \"Injection/expectedmainbunch.dat\")\n",
    "    expected_mainbunch = read_values_from_file(expected_mainbunch)\n",
    "\n",
    "    assert len(mainbunch) == len(expected_mainbunch)\n",
    "\n",
    "    for e, a in zip(expected_mainbunch, mainbunch):\n",
    "        assert e == pytest.approx(a, abs=0.0000000001)"
   ]
  },
  {
   "cell_type": "code",
   "execution_count": 57,
   "id": "f8b3957a-0942-46af-945e-4e48ca6e5ad7",
   "metadata": {},
   "outputs": [],
   "source": [
    "test_injection_main_bunch()"
   ]
  },
  {
   "cell_type": "code",
   "execution_count": 58,
   "id": "3f2c2d61-1fa8-4b2b-a51c-87fe693fe864",
   "metadata": {},
   "outputs": [],
   "source": [
    "os.remove(\"mainbunch.dat\")\n",
    "os.remove(\"lostbunch.dat\")"
   ]
  },
  {
   "cell_type": "markdown",
   "id": "dc7731be-8933-4272-a2ca-f1328f87d596",
   "metadata": {},
   "source": [
    "# PTC Test"
   ]
  },
  {
   "cell_type": "code",
   "execution_count": 59,
   "id": "5470801b-1808-4313-afb3-b7c8416eaaab",
   "metadata": {},
   "outputs": [],
   "source": [
    "import sys\n",
    "import os\n",
    "import math"
   ]
  },
  {
   "cell_type": "code",
   "execution_count": 62,
   "id": "0836ea3a-30fb-4ca6-a6f7-dcf5f0f993d4",
   "metadata": {},
   "outputs": [],
   "source": [
    "from orbit.teapot_base import TPB\n",
    "\n",
    "from orbit.utils import orbitFinalize\n",
    "\n",
    "from orbit.lattice import AccLattice, AccNode,\\\n",
    "     AccActionsContainer, AccNodeBunchTracker\n",
    "\n",
    "from orbit.utils.orbit_mpi_utils import\\\n",
    "     bunch_orbit_to_pyorbit, bunch_pyorbit_to_orbit\n",
    "\n",
    "from orbit.teapot import TEAPOT_Lattice\n",
    "from orbit.teapot import BaseTEAPOT"
   ]
  },
  {
   "cell_type": "code",
   "execution_count": 63,
   "id": "28e8b176-1687-41fd-a927-bb78b3d99148",
   "metadata": {},
   "outputs": [
    {
     "ename": "ModuleNotFoundError",
     "evalue": "No module named 'libptc_orbit'",
     "output_type": "error",
     "traceback": [
      "\u001b[0;31m---------------------------------------------------------------------------\u001b[0m",
      "\u001b[0;31mModuleNotFoundError\u001b[0m                       Traceback (most recent call last)",
      "Cell \u001b[0;32mIn[63], line 1\u001b[0m\n\u001b[0;32m----> 1\u001b[0m \u001b[38;5;28;01mfrom\u001b[39;00m\u001b[38;5;250m \u001b[39m\u001b[38;5;21;01mlibptc_orbit\u001b[39;00m\u001b[38;5;250m \u001b[39m\u001b[38;5;28;01mimport\u001b[39;00m \u001b[38;5;241m*\u001b[39m\n",
      "\u001b[0;31mModuleNotFoundError\u001b[0m: No module named 'libptc_orbit'"
     ]
    }
   ],
   "source": [
    "from libptc_orbit import *"
   ]
  },
  {
   "cell_type": "code",
   "execution_count": 64,
   "id": "40216527-2e7c-4145-ade4-4b2452f71ffc",
   "metadata": {},
   "outputs": [
    {
     "ename": "ModuleNotFoundError",
     "evalue": "No module named 'bunch'",
     "output_type": "error",
     "traceback": [
      "\u001b[0;31m---------------------------------------------------------------------------\u001b[0m",
      "\u001b[0;31mModuleNotFoundError\u001b[0m                       Traceback (most recent call last)",
      "Cell \u001b[0;32mIn[64], line 1\u001b[0m\n\u001b[0;32m----> 1\u001b[0m \u001b[38;5;28;01mfrom\u001b[39;00m\u001b[38;5;250m \u001b[39m\u001b[38;5;21;01mbunch\u001b[39;00m\u001b[38;5;250m \u001b[39m\u001b[38;5;28;01mimport\u001b[39;00m Bunch\n",
      "\u001b[0;31mModuleNotFoundError\u001b[0m: No module named 'bunch'"
     ]
    }
   ],
   "source": [
    "\n",
    "from bunch import Bunch"
   ]
  },
  {
   "cell_type": "code",
   "execution_count": 65,
   "id": "88002cb5-7a0e-4ddd-90cd-38a2a614b190",
   "metadata": {},
   "outputs": [
    {
     "ename": "ModuleNotFoundError",
     "evalue": "No module named 'ext'",
     "output_type": "error",
     "traceback": [
      "\u001b[0;31m---------------------------------------------------------------------------\u001b[0m",
      "\u001b[0;31mModuleNotFoundError\u001b[0m                       Traceback (most recent call last)",
      "Cell \u001b[0;32mIn[65], line 1\u001b[0m\n\u001b[0;32m----> 1\u001b[0m \u001b[38;5;28;01mfrom\u001b[39;00m\u001b[38;5;250m \u001b[39m\u001b[38;5;21;01mext\u001b[39;00m\u001b[38;5;21;01m.\u001b[39;00m\u001b[38;5;21;01mptc_orbit\u001b[39;00m\u001b[38;5;250m \u001b[39m\u001b[38;5;28;01mimport\u001b[39;00m PTC_Lattice\n\u001b[1;32m      2\u001b[0m \u001b[38;5;28;01mfrom\u001b[39;00m\u001b[38;5;250m \u001b[39m\u001b[38;5;21;01mext\u001b[39;00m\u001b[38;5;21;01m.\u001b[39;00m\u001b[38;5;21;01mptc_orbit\u001b[39;00m\u001b[38;5;250m \u001b[39m\u001b[38;5;28;01mimport\u001b[39;00m PTC_Node\n\u001b[1;32m      3\u001b[0m \u001b[38;5;28;01mfrom\u001b[39;00m\u001b[38;5;250m \u001b[39m\u001b[38;5;21;01mext\u001b[39;00m\u001b[38;5;21;01m.\u001b[39;00m\u001b[38;5;21;01mptc_orbit\u001b[39;00m\u001b[38;5;21;01m.\u001b[39;00m\u001b[38;5;21;01mptc_orbit\u001b[39;00m\u001b[38;5;250m \u001b[39m\u001b[38;5;28;01mimport\u001b[39;00m setBunchParamsPTC, readAccelTablePTC,\\\n\u001b[1;32m      4\u001b[0m      readScriptPTC, updateParamsPTC, synchronousSetPTC, synchronousAfterPTC,\\\n\u001b[1;32m      5\u001b[0m      trackBunchThroughLatticePTC, trackBunchInRangePTC\n",
      "\u001b[0;31mModuleNotFoundError\u001b[0m: No module named 'ext'"
     ]
    }
   ],
   "source": [
    "from ext.ptc_orbit import PTC_Lattice\n",
    "from ext.ptc_orbit import PTC_Node\n",
    "from ext.ptc_orbit.ptc_orbit import setBunchParamsPTC, readAccelTablePTC,\\\n",
    "     readScriptPTC, updateParamsPTC, synchronousSetPTC, synchronousAfterPTC,\\\n",
    "     trackBunchThroughLatticePTC, trackBunchInRangePTC"
   ]
  },
  {
   "cell_type": "code",
   "execution_count": null,
   "id": "609f289b-9179-4d40-a0a7-c56a90aee542",
   "metadata": {},
   "outputs": [],
   "source": [
    "PTC_File = \"MAIN_1_5_KIND7_1\"\n",
    "\n",
    "length_of_name = len(PTC_File)\n",
    "ptc_init_(PTC_File, length_of_name - 1)\n",
    "\n",
    "Lattice = PTC_Lattice(\"TestCase\")\n",
    "\n",
    "Lattice.readPTC(PTC_File)\n",
    "\n",
    "print Lattice.getLength(), Lattice.betax0, Lattice.betay0, Lattice.alphax0, Lattice.alphay0, Lattice.etax0, Lattice.etapx0\n",
    "PhaseLength = Lattice.getLength()\n",
    "print Lattice.getLength(), PhaseLength\n",
    "\n",
    "\"\"\"\n",
    "for node in Lattice.getNodes():\n",
    "    print node.getType(), node.getLength(), node.getParam(\"node_index\"), node.getParam(\"betax\"), node.getParam(\"betay\"), node.getParam(\"alphax\"), node.getParam(\"alphay\"), node.getParam(\"etax\"), node.getParam(\"etapx\")\n",
    "\"\"\"\n",
    "\n",
    "b = Bunch()\n",
    "print \"Read Bunch.\"\n",
    "runName = \"PTC Test\"\n",
    "\n",
    "setBunchParamsPTC(b)\n",
    "kin_Energy = b.getSyncParticle().kinEnergy()\n",
    "print kin_Energy, b.charge(), b.mass()\n",
    "\n",
    "total_macroSize=1.0e+10\n",
    "\n",
    "bunch_orbit_to_pyorbit(Lattice.getLength(), kin_Energy, \"bunch.dat\", b)\n",
    "\n",
    "nParticlesGlobal = b.getSizeGlobal()\n",
    "b.macroSize(total_macroSize/nParticlesGlobal)\n",
    "print nParticlesGlobal, b.macroSize()\n",
    "\n",
    "\"\"\"\n",
    "Acc_File = \"ACCWAVE_40kV_280kV_350ms.DAT\"\n",
    "readAccelTablePTC(Acc_File)\n",
    "\"\"\"\n",
    "\n",
    "updateParamsPTC(Lattice, b)\n",
    "\n",
    "synchronousSetPTC(-1)\n",
    "\n",
    "\"\"\"\n",
    "synchronousAfterPTC(-1)\n",
    "\"\"\"\n",
    "\n",
    "Turns = 100\n",
    "for i in range(Turns):\n",
    "    print i\n",
    "    trackBunchThroughLatticePTC(Lattice, b, PhaseLength)\n",
    "\n",
    "\"\"\"\n",
    "trackBunchInRangePTC(Lattice, b, PhaseLength, 0, 500)\n",
    "trackBunchInRangePTC(Lattice, b, PhaseLength, 501, 932)\n",
    "trackBunchInRangePTC(Lattice, b, PhaseLength, 0, 10)\n",
    "trackBunchInRangePTC(Lattice, b, PhaseLength, 11, 20)\n",
    "trackBunchInRangePTC(Lattice, b, PhaseLength, 21, 932)\n",
    "\"\"\"\n",
    "\n",
    "b.dumpBunch(\"bunch_temp.dat\")\n",
    "bunch_pyorbit_to_orbit(Lattice.getLength(), b, \"bunch_final.dat\")"
   ]
  }
 ],
 "metadata": {
  "kernelspec": {
   "display_name": "Python 3 (ipykernel)",
   "language": "python",
   "name": "python3"
  },
  "language_info": {
   "codemirror_mode": {
    "name": "ipython",
    "version": 3
   },
   "file_extension": ".py",
   "mimetype": "text/x-python",
   "name": "python",
   "nbconvert_exporter": "python",
   "pygments_lexer": "ipython3",
   "version": "3.12.8"
  }
 },
 "nbformat": 4,
 "nbformat_minor": 5
}
